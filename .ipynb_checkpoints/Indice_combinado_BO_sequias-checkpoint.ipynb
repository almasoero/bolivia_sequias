{
 "cells": [
  {
   "cell_type": "code",
   "execution_count": 6,
   "metadata": {},
   "outputs": [],
   "source": [
    "import datetime\n",
    "import os\n",
    "from dateutil.relativedelta import *\n",
    "import matplotlib.pylab as plt\n",
    "import matplotlib as mpl\n",
    "from PIL import Image\n",
    "import numpy as np"
   ]
  },
  {
   "cell_type": "code",
   "execution_count": 11,
   "metadata": {},
   "outputs": [],
   "source": [
    "def simple_plot_index(a,title=\"\"):\n",
    "    fig, ax = plt.subplots()\n",
    "\n",
    "    #cmap='RdBu'\n",
    "    cmap = mpl.colors.LinearSegmentedColormap.from_list(\"\", [\"red\",\"orange\",\"yellow\",\"white\",\"pink\",\"violet\", \"#0f0f0f\"])\n",
    "    plt.title(title)\n",
    "    im = plt.imshow(a, interpolation='none',cmap=cmap)\n",
    "    plt.colormaps()\n",
    "    # cbar = fig.colorbar(cax,ticks=[-1, 0, 1, 2, 10],orientation='vertical')\n",
    "    cbar = fig.colorbar(im, orientation='vertical')\n",
    "    plt.clim(-3,3)\n",
    "    # cbar.ax.set_yticklabels(['< -1', '0', 1, 2,'> 10'])# vertically oriented\n",
    "    # colorbar\n",
    "    #ax.format_coord = Formatter(im)\n",
    "    plt.show()\n",
    "\n",
    "def main (oDateFrom,oDateTo):\n",
    "\n",
    "    while (oDateFrom <= oDateTo):\n",
    "\n",
    "        print (oDateFrom)\n",
    "\n",
    "        ######## METEO\n",
    "\n",
    "        if INDEX_METEO==\"SPI\":\n",
    "            prefix= INDEX_METEO + accumulation_METEO + \"-PERSIANN_\"\n",
    "        elif INDEX_METEO==\"SPEI\":\n",
    "            prefix= INDEX_METEO + accumulation_METEO + \"-PERSIANN-MODIS_\"\n",
    "\n",
    "        METEO_file= os.path.join(products_dir,INDEX_METEO,oDateFrom.strftime(\"%Y\"),oDateFrom.strftime(\"%m\"),prefix+oDateFrom.strftime(\"%Y%m\")+\".tif\")\n",
    "\n",
    "        METEO_I = Image.open(METEO_file)\n",
    "        \n",
    "        METEO = np.array(METEO_I)\n",
    "\n",
    "        #simple_plot_index (METEO,prefix+oDateFrom.strftime(\"%Y%m\"))\n",
    "\n",
    "        combined = METEO * 0\n",
    "\n",
    "        combined = combined + (METEO<METEO_threshold)\n",
    "\n",
    "        ######## SOIL MOISTURE\n",
    "\n",
    "        if INDEX_HUM==\"PDSI\":\n",
    "            prefix= INDEX_HUM + accumulation_HUM + \"-PERSIANN-MODIS-SMAP_\"\n",
    "        else:\n",
    "            prefix= INDEX_HUM + accumulation_HUM + \"-SMAP_\"\n",
    "        \n",
    "        SMI_file= os.path.join(products_dir,INDEX_HUM,oDateFrom.strftime(\"%Y\"),oDateFrom.strftime(\"%m\"),prefix+oDateFrom.strftime(\"%Y%m\")+\".tif\")\n",
    "\n",
    "        SMI_I = Image.open(SMI_file)\n",
    "        \n",
    "        SMI = np.array(SMI_I)\n",
    "\n",
    "        #simple_plot_index (SMI, prefix+oDateFrom.strftime(\"%Y%m\"))\n",
    "\n",
    "        combined=combined*(SMI<HUM_threshold)\n",
    "\n",
    "        combined = combined + (SMI<HUM_threshold)\n",
    "\n",
    "        ######## VEGETATION\n",
    "\n",
    "        prefix= INDEX_VEG + accumulation_VEG + \"-MODIS_\" #FAPAR e VHI have the same\n",
    "\n",
    "        VEG_file= os.path.join(products_dir,INDEX_VEG,oDateFrom.strftime(\"%Y\"),oDateFrom.strftime(\"%m\"),prefix+oDateFrom.strftime(\"%Y%m\")+\".tif\")\n",
    "\n",
    "        VEG_I = Image.open(VEG_file)\n",
    "        \n",
    "        VEG = np.array(VEG_I)\n",
    "\n",
    "        #simple_plot_index (VEG,prefix+oDateFrom.strftime(\"%Y%m\"))\n",
    "\n",
    "        combined=combined*(VEG<VEG_threshold)\n",
    "\n",
    "        combined = combined + (VEG<VEG_threshold)\n",
    "\n",
    "        # PLOT combined\n",
    "\n",
    "        fig, ax = plt.subplots()\n",
    "        cmap = mpl.colors.LinearSegmentedColormap.from_list(\"\", [\"white\",\"yellow\",\"orange\",\"red\"])\n",
    "        im = plt.imshow(combined, interpolation='none',cmap=cmap)\n",
    "        plt.title(\"combined_\"+oDateFrom.strftime(\"%Y%m\"))\n",
    "        plt.colormaps()\n",
    "        # cbar = fig.colorbar(cax,ticks=[-1, 0, 1, 2, 10],orientation='vertical')\n",
    "        cbar = fig.colorbar(im, orientation='vertical')\n",
    "        plt.clim(0,3)\n",
    "        # cbar.ax.set_yticklabels(['< -1', '0', 1, 2,'> 10'])# vertically oriented\n",
    "        #ax.format_coord = Formatter(im)\n",
    "        plt.show()\n",
    "\n",
    "        # combined drought indicator\n",
    "\n",
    "        oDateFrom = oDateFrom +relativedelta(months=+1)\n",
    "    print('Process ended with success')\n",
    "\n",
    "\n",
    "\n"
   ]
  },
  {
   "cell_type": "code",
   "execution_count": 18,
   "metadata": {},
   "outputs": [
    {
     "name": "stdout",
     "output_type": "stream",
     "text": [
      "2016-01-01 00:00:00\n"
     ]
    },
    {
     "name": "stderr",
     "output_type": "stream",
     "text": [
      "/Users/al/opt/anaconda3/envs/py3/lib/python3.7/site-packages/ipykernel_launcher.py:40: RuntimeWarning: invalid value encountered in less\n",
      "/Users/al/opt/anaconda3/envs/py3/lib/python3.7/site-packages/ipykernel_launcher.py:57: RuntimeWarning: invalid value encountered in less\n",
      "/Users/al/opt/anaconda3/envs/py3/lib/python3.7/site-packages/ipykernel_launcher.py:59: RuntimeWarning: invalid value encountered in less\n",
      "/Users/al/opt/anaconda3/envs/py3/lib/python3.7/site-packages/ipykernel_launcher.py:73: RuntimeWarning: invalid value encountered in less\n",
      "/Users/al/opt/anaconda3/envs/py3/lib/python3.7/site-packages/ipykernel_launcher.py:75: RuntimeWarning: invalid value encountered in less\n"
     ]
    },
    {
     "data": {
      "image/png": "[encoded data removed]",
      "text/plain": [
       "<Figure size 432x288 with 2 Axes>"
      ]
     },
     "metadata": {
      "needs_background": "light"
     },
     "output_type": "display_data"
    },
    {
     "name": "stdout",
     "output_type": "stream",
     "text": [
      "Process ended with success\n",
      "\n",
      "2020-04-24 19:24:53.309409 - Process ended.\n",
      "\n"
     ]
    }
   ],
   "source": [
    "if __name__ == \"__main__\":\n",
    "\n",
    "    #################################################################\n",
    "\n",
    "    tmp_dir = \"tmp\"\n",
    "    products_dir = \"products\"\n",
    "\n",
    "    #################################################################\n",
    "\n",
    "    sDateFrom = '201601' # Fecha inicio\n",
    "    oDateFrom = datetime.datetime.strptime(sDateFrom,\"%Y%m\")\n",
    "\n",
    "    sDateTo = '201601' # Fecha Fin\n",
    "    oDateTo = datetime.datetime.strptime(sDateTo,\"%Y%m\")\n",
    "\n",
    "    #################################################################\n",
    "\n",
    "    INDEX_METEO=\"SPI\" #SPI or SPEI\n",
    "    accumulation_METEO = \"06\" # SPI=01,02,03,06 or SPEI=01,03,06\n",
    "    METEO_threshold = -1.3\n",
    "\n",
    "    INDEX_HUM=\"SWDI\" #SWDI or SMI or PDSI\n",
    "    accumulation_HUM = \"06\" #SWDI/SMI=01,03,06 or PDSI=[none]\n",
    "    HUM_threshold=-1\n",
    "\n",
    "    INDEX_VEG=\"VHI\" #FAPAR or ESI or VHI\n",
    "    accumulation_VEG = \"02\" #FAPAR/ESI/VHI=01,03,06\n",
    "    VEG_threshold=0.2\n",
    "\n",
    "    #################################################################\n",
    "\n",
    "    main(oDateFrom,oDateTo)\n",
    "    print('\\n' + str(datetime.datetime.now()) + ' - Process ended.\\n')"
   ]
  },
  {
   "cell_type": "code",
   "execution_count": null,
   "metadata": {},
   "outputs": [],
   "source": []
  }
 ],
 "metadata": {
  "kernelspec": {
   "display_name": "Python 3",
   "language": "python",
   "name": "python3"
  },
  "language_info": {
   "codemirror_mode": {
    "name": "ipython",
    "version": 3
   },
   "file_extension": ".py",
   "mimetype": "text/x-python",
   "name": "python",
   "nbconvert_exporter": "python",
   "pygments_lexer": "ipython3",
   "version": "3.7.4"
  }
 },
 "nbformat": 4,
 "nbformat_minor": 4
}
