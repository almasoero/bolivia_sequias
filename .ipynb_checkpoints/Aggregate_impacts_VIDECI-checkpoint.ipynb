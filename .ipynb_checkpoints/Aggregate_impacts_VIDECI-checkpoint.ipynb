{
 "cells": [
  {
   "cell_type": "code",
   "execution_count": 1,
   "metadata": {},
   "outputs": [],
   "source": [
    "# -------------------------------------------------------------------------------------\n",
    "# Libraries\n",
    "import os\n",
    "import numpy as np\n",
    "import pandas as pd\n",
    "import geopandas as gdp\n",
    "from matplotlib import pyplot as plt"
   ]
  },
  {
   "cell_type": "code",
   "execution_count": null,
   "metadata": {},
   "outputs": [],
   "source": [
    "# -------------------------------------------------------------------------------------\n",
    "# Inputs\n",
    "sCsvNameIn = 'input/SequiaVIDECI_2002_2019.csv' \n",
    "\n",
    "sSuffixLPZ = 'LPZ_'\n",
    "sTimeAgg = 'M' # Y = yearly; M = monthly\n",
    "sSpaceAgg = 'Mu' # D = Departments; Mu = Municipalities; MR = MacroRegions\n",
    "\n",
    "sDepNameIn = 'input/shp/BOL_departamentos.shp'\n",
    "sMunNameIn = 'input/shp/BOL_municipios.shp'\n",
    "sMRegNameIn = 'input/shp/BOL_macroregiones.shp'\n",
    "sFldOut = 'output'"
   ]
  }
 ],
 "metadata": {
  "kernelspec": {
   "display_name": "Python 3",
   "language": "python",
   "name": "python3"
  },
  "language_info": {
   "codemirror_mode": {
    "name": "ipython",
    "version": 3
   },
   "file_extension": ".py",
   "mimetype": "text/x-python",
   "name": "python",
   "nbconvert_exporter": "python",
   "pygments_lexer": "ipython3",
   "version": "3.7.7"
  }
 },
 "nbformat": 4,
 "nbformat_minor": 4
}
